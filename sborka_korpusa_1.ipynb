{
  "nbformat": 4,
  "nbformat_minor": 0,
  "metadata": {
    "colab": {
      "provenance": []
    },
    "kernelspec": {
      "name": "python3",
      "display_name": "Python 3"
    },
    "language_info": {
      "name": "python"
    }
  },
  "cells": [
    {
      "cell_type": "markdown",
      "source": [
        "Шаг 0. Установка необходимых библиотек и модулей."
      ],
      "metadata": {
        "id": "M5MHgthAKHbl"
      }
    },
    {
      "cell_type": "code",
      "execution_count": null,
      "metadata": {
        "colab": {
          "base_uri": "https://localhost:8080/"
        },
        "id": "fxl8UZt0KB00",
        "outputId": "720ad7a6-1fe6-4489-eff5-70366f65fc0b"
      },
      "outputs": [
        {
          "output_type": "stream",
          "name": "stdout",
          "text": [
            "Requirement already satisfied: requests in /usr/local/lib/python3.10/dist-packages (2.31.0)\n",
            "Requirement already satisfied: charset-normalizer<4,>=2 in /usr/local/lib/python3.10/dist-packages (from requests) (3.3.2)\n",
            "Requirement already satisfied: idna<4,>=2.5 in /usr/local/lib/python3.10/dist-packages (from requests) (3.7)\n",
            "Requirement already satisfied: urllib3<3,>=1.21.1 in /usr/local/lib/python3.10/dist-packages (from requests) (2.0.7)\n",
            "Requirement already satisfied: certifi>=2017.4.17 in /usr/local/lib/python3.10/dist-packages (from requests) (2024.6.2)\n",
            "Requirement already satisfied: beautifulsoup4 in /usr/local/lib/python3.10/dist-packages (4.12.3)\n",
            "Requirement already satisfied: soupsieve>1.2 in /usr/local/lib/python3.10/dist-packages (from beautifulsoup4) (2.5)\n"
          ]
        }
      ],
      "source": [
        "!pip install requests\n",
        "\n",
        "!pip install beautifulsoup4"
      ]
    },
    {
      "cell_type": "code",
      "source": [
        "import requests as rq\n",
        "from bs4 import BeautifulSoup\n",
        "import pandas as pd"
      ],
      "metadata": {
        "id": "P1J2ft-vKsLS"
      },
      "execution_count": null,
      "outputs": []
    },
    {
      "cell_type": "markdown",
      "source": [
        "Шаг 1. Создание списка страничек сайта Mental Floss, с которых будут парситься ссылки на отдельные статьи."
      ],
      "metadata": {
        "id": "QUESKDxzKxzC"
      }
    },
    {
      "cell_type": "code",
      "source": [
        "pages = []\n",
        "page_numbers = list(range(1,11))\n",
        "link = \"https://www.mentalfloss.com/section/science?page=\""
      ],
      "metadata": {
        "id": "_5oMLCMOKwlI"
      },
      "execution_count": null,
      "outputs": []
    },
    {
      "cell_type": "code",
      "source": [
        "for i in page_numbers:\n",
        "  pages.append(link+str(i))"
      ],
      "metadata": {
        "id": "QT3M6jINK-8N"
      },
      "execution_count": null,
      "outputs": []
    },
    {
      "cell_type": "markdown",
      "source": [
        "Шаг 2. Добавление ссылок на отдельные статьи с собранных страниц в отдельный список."
      ],
      "metadata": {
        "id": "7F6ob0hKLEQn"
      }
    },
    {
      "cell_type": "code",
      "source": [
        "links = []"
      ],
      "metadata": {
        "id": "Ar3DVkh1LNo9"
      },
      "execution_count": null,
      "outputs": []
    },
    {
      "cell_type": "code",
      "source": [
        "for i in pages:\n",
        "  url = i\n",
        "  page = rq.get(i)\n",
        "  soup = BeautifulSoup(page.text, features = \"html.parser\")\n",
        "  for x in soup.find_all(\"a\"):\n",
        "    if x.parent.name == \"article\":\n",
        "      links.append(x.get('href'))"
      ],
      "metadata": {
        "id": "-YkBKenTLTQh"
      },
      "execution_count": null,
      "outputs": []
    },
    {
      "cell_type": "code",
      "source": [
        "print(links)\n",
        "print(len(links))"
      ],
      "metadata": {
        "colab": {
          "base_uri": "https://localhost:8080/"
        },
        "id": "hoX_Br3dLcWw",
        "outputId": "dab6b5f6-6a09-469d-c07d-8276fcfdfb3b"
      },
      "execution_count": null,
      "outputs": [
        {
          "output_type": "stream",
          "name": "stdout",
          "text": [
            "['https://www.mentalfloss.com/posts/easter-island-study-contradicts-ecocide', 'https://www.mentalfloss.com/posts/misconceptions-about-weather', 'https://www.mentalfloss.com/posts/forensic-kit-murder-bag-origins', 'https://www.mentalfloss.com/posts/solar-storms-northern-lights-facts', 'https://www.mentalfloss.com/posts/crows-count-out-loud', 'https://www.mentalfloss.com/posts/t-rex-juvenile-fossil', 'https://www.mentalfloss.com/article/654695/people-who-operated-themselves', 'https://www.mentalfloss.com/posts/joro-spider-invasive-species', 'https://www.mentalfloss.com/posts/woolly-mammoth-bones-in-wine-cellar', 'https://www.mentalfloss.com/article/90259/6-bizarre-sharks-live-deep-ocean', 'https://www.mentalfloss.com/posts/having-anger-issues-try-shredding-your-feelings', 'https://www.mentalfloss.com/posts/never-park-under-overpass-during-tornado-storm', 'https://www.mentalfloss.com/posts/can-dead-body-get-suntan', 'https://www.mentalfloss.com/posts/why-beer-tastes-better-cold', 'https://www.mentalfloss.com/posts/scientific-benefits-of-reading-more', 'https://www.mentalfloss.com/article/64556/want-be-less-biased-take-nap', 'https://www.mentalfloss.com/posts/jaws-matt-hooper-inspiration', 'https://www.mentalfloss.com/article/77225/did-ben-franklin-really-invent-lightning-rod', 'https://www.mentalfloss.com/article/502701/9-interesting-facts-about-ribs', 'https://www.mentalfloss.com/posts/bumblebee-cooperation-lego-bricks', 'https://www.mentalfloss.com/article/514257/8-myths-about-dead-bodies-you-probably-think-are-true', 'https://www.mentalfloss.com/posts/t-rex-brain-intelligence', 'https://www.mentalfloss.com/article/544046/why-myth-average-human-body-temperature', 'https://www.mentalfloss.com/posts/is-water-wet', 'https://www.mentalfloss.com/posts/denisovans-facts', 'https://www.mentalfloss.com/posts/bigfoot-sightings-are-bears', 'https://www.mentalfloss.com/article/501112/why-does-weed-make-you-hungry', 'https://www.mentalfloss.com/posts/why-do-kids-eat-their-boogers', 'https://www.mentalfloss.com/article/540954/lyrid-meteor-shower-arrives-saturday-night', 'https://www.mentalfloss.com/article/77003/how-amateur-astronomer-discovered-uranus', 'https://www.mentalfloss.com/article/583313/whats-difference-between-moths-and-butterflies', 'https://www.mentalfloss.com/posts/what-hath-god-wrought-meaning', 'https://www.mentalfloss.com/article/67437/does-febreze-really-trap-bad-odors', 'https://www.mentalfloss.com/article/54762/7-fun-facts-about-martian-dust-devils', 'https://www.mentalfloss.com/posts/nasa-interactive-eclipse-map', 'https://www.mentalfloss.com/posts/biggest-earthquakes', 'https://www.mentalfloss.com/article/79165/how-do-teeth-whiteners-work', 'https://www.mentalfloss.com/article/534824/facts-about-hammerhead-sharks', 'https://www.mentalfloss.com/posts/leona-libby-manhattan-project', 'https://www.mentalfloss.com/article/30710/can-you-really-go-blind-staring-solar-eclipse', 'https://www.mentalfloss.com/article/79423/how-do-owls-fly-so-silently', 'https://www.mentalfloss.com/article/54608/do-sharks-really-not-get-cancer', 'https://www.mentalfloss.com/article/527175/10-clever-facts-about-raccoons', 'https://www.mentalfloss.com/posts/solar-eclipse-2024-safety-tips', 'https://www.mentalfloss.com/article/502347/mental-floss-field-guide-viewing-solar-eclipse', 'https://www.mentalfloss.com/article/558091/origin-bloody-mary-and-why-we-think-we-see-things-mirrors', 'https://www.mentalfloss.com/posts/coyotes-vs-foxes-what-is-difference', 'https://www.mentalfloss.com/article/31049/how-do-baby-birds-breathe-inside-their-eggs', 'https://www.mentalfloss.com/article/52448/story-behind-stockholm-syndrome', 'https://www.mentalfloss.com/article/31608/does-full-moon-really-make-people-act-crazy', 'https://www.mentalfloss.com/posts/what-color-are-blueberries', 'https://www.mentalfloss.com/article/86923/11-african-american-inventors-who-changed-world', 'https://www.mentalfloss.com/posts/the-scream-munch-nacreous-clouds', 'https://www.mentalfloss.com/posts/how-to-disarm-nuclear-bomb', 'https://www.mentalfloss.com/article/68022/what-exactly-new-car-smell', 'https://www.mentalfloss.com/article/90411/simple-trick-defrosting-your-windshield-less-60-seconds', 'https://www.mentalfloss.com/article/71313/watch-cuttlefish-camouflage-itself-underwater-living-room', 'https://www.mentalfloss.com/posts/misconceptions-about-early-humans', 'https://www.mentalfloss.com/posts/history-greatest-mysteries', 'https://www.mentalfloss.com/posts/does-double-dipping-spread-germs', 'https://www.mentalfloss.com/posts/historical-nepo-babies', 'https://www.mentalfloss.com/article/77052/watch-orson-welles-discuss-aliens-nasa-produced-documentary', 'https://www.mentalfloss.com/article/642849/it-it-safe-to-eat-snow', 'https://www.mentalfloss.com/posts/why-most-dogs-have-brown-eyes', 'https://www.mentalfloss.com/posts/facts-we-learned-2023', 'https://www.mentalfloss.com/posts/astronaut-kellie-gerardi-spaceflight', 'https://www.mentalfloss.com/article/639723/wolf-moon-first-full-moon-2021', 'https://www.mentalfloss.com/posts/why-cheddar-cheese-tastes-good', 'https://www.mentalfloss.com/article/60776/why-do-we-make-new-years-resolutions', 'https://www.mentalfloss.com/posts/how-to-see-international-space-station', 'https://www.mentalfloss.com/article/72659/10-things-you-probably-didnt-know-about-winter-solstice', 'https://www.mentalfloss.com/article/74085/why-does-snow-squeak-when-you-step-it', 'https://www.mentalfloss.com/article/69479/why-do-prunes-make-you-poop', 'https://www.mentalfloss.com/posts/chernobyl-vodka', 'https://www.mentalfloss.com/article/78050/what-are-urinal-cakes-anyway', 'https://www.mentalfloss.com/posts/enlightenment-facts', 'https://www.mentalfloss.com/posts/why-does-red-wine-give-people-headaches', 'https://www.mentalfloss.com/posts/doctor-who-aliens-vs-real-technology', 'https://www.mentalfloss.com/article/77630/11-ferocious-facts-about-wolverines', 'https://www.mentalfloss.com/posts/common-misconceptions-about-human-body', 'https://www.mentalfloss.com/posts/misconceptions-about-ice-age', 'https://www.mentalfloss.com/article/53131/ada-lovelace-first-computer-programmer', 'https://www.mentalfloss.com/article/68425/why-some-male-lions-dont-have-manes', 'https://www.mentalfloss.com/article/625986/extra-bright-jupiter-reaches-opposition', 'https://www.mentalfloss.com/posts/why-do-people-fear-clowns', 'https://www.mentalfloss.com/posts/ivory-billed-woodpecker-extinction-facts', 'https://www.mentalfloss.com/posts/weird-facts', 'https://www.mentalfloss.com/posts/misconceptions-about-sharks', 'https://www.mentalfloss.com/article/53128/11-bloody-facts-about-vampire-bats', 'https://www.mentalfloss.com/posts/lava-tubes-explained', 'https://www.mentalfloss.com/article/75606/how-sword-swallowing-really-works', 'https://www.mentalfloss.com/posts/pepper-x-guinness-world-record-hottest-pepper', 'https://www.mentalfloss.com/article/12879/why-do-we-get-shivers-our-spines', 'https://www.mentalfloss.com/article/581887/death-facts', 'https://www.mentalfloss.com/article/612186/why-koalas-are-called-koala-bears', 'https://www.mentalfloss.com/posts/victorian-ghosts-science', 'https://www.mentalfloss.com/posts/theremin-history-hollywood-soviet-union', 'https://www.mentalfloss.com/article/586963/how-to-prevent-bed-bugs-from-coming-home-with-you', 'https://www.mentalfloss.com/article/81459/watch-rare-drone-footage-brydes-whales-feeding', 'https://www.mentalfloss.com/article/68241/why-film-contact-annoyed-bill-clinton', 'https://www.mentalfloss.com/article/69171/10-monstrous-facts-about-frankenstein', 'https://www.mentalfloss.com/posts/nasa-ufo-investigation', 'https://www.mentalfloss.com/posts/your-smartwatch-is-filthy-with-germs', 'https://www.mentalfloss.com/article/67114/why-do-goats-have-such-weird-eyes', 'https://www.mentalfloss.com/posts/pigs-grow-human-kidneys', 'https://www.mentalfloss.com/article/626810/dolly-the-sheep-media-sensation', 'https://www.mentalfloss.com/posts/big-bang-facts', 'https://www.mentalfloss.com/posts/mesh-grate-microwave-purpose', 'https://www.mentalfloss.com/posts/at-home-covid-test-expiration-dates', 'https://www.mentalfloss.com/article/90652/watch-early-silent-film-about-relativity', 'https://www.mentalfloss.com/article/550892/facts-about-portuguese-man-o-war', 'https://www.mentalfloss.com/posts/new-accent-antarctica', 'https://www.mentalfloss.com/article/69251/6-famous-scientists-and-inventors-who-struggled-math', 'https://www.mentalfloss.com/article/649283/difference-between-hurricanes-cyclones-typhoons', 'https://www.mentalfloss.com/posts/why-older-people-grunt-while-sitting-down-standing-up', 'https://www.mentalfloss.com/posts/birdcast-bird-migration-interactive-tool', 'https://www.mentalfloss.com/posts/limnic-eruptions-volcanic-lakes', 'https://www.mentalfloss.com/article/90604/no-sht-people-who-swear-more-may-also-be-more-honest-study-says', 'https://www.mentalfloss.com/article/86519/13-mummified-facts-about-otzi-iceman', 'https://www.mentalfloss.com/posts/how-much-free-food-is-acceptable-to-take', 'https://www.mentalfloss.com/article/63088/how-far-can-you-fall-and-still-survive', 'https://www.mentalfloss.com/article/623813/reason-why-some-people-love-smell-of-gasoline', 'https://www.mentalfloss.com/article/626816/how-henrietta-lacks-became-mother-modern-medicine', 'https://www.mentalfloss.com/article/501926/how-many-dimensions-are-there', 'https://www.mentalfloss.com/article/83856/10-famous-birthdays-celebrate-august', 'https://www.mentalfloss.com/posts/whitest-paint-could-help-cool-planet', 'https://www.mentalfloss.com/posts/how-to-watch-perseid-meteor-shower', 'https://www.mentalfloss.com/article/60129/11-fascinating-facts-about-frilled-shark', 'https://www.mentalfloss.com/posts/scientists-opposed-manhattan-project-atomic-bomb', 'https://www.mentalfloss.com/posts/j-robert-oppenheimer-facts-history', 'https://www.mentalfloss.com/posts/ticks-jump-using-static-electricity', 'https://www.mentalfloss.com/posts/neutrino-particle-facts', 'https://www.mentalfloss.com/article/74582/what-el-nino-and-why-does-it-have-such-big-impact', 'https://www.mentalfloss.com/article/627057/augusts-full-sturgeon-moon-2020', 'https://www.mentalfloss.com/posts/how-long-for-plastic-bag-to-decompose', 'https://www.mentalfloss.com/posts/rogue-wave-facts', 'https://www.mentalfloss.com/article/648884/what-is-a-heat-dome', 'https://www.mentalfloss.com/posts/leqembi-alzheimers-disease-drug-fda-approved', 'https://www.mentalfloss.com/article/67867/what-trypophobia-and-it-real', 'https://www.mentalfloss.com/article/544902/facts-about-opossums', 'https://www.mentalfloss.com/posts/the-scientific-reason-you-should-microwave-popcorn-with-this-side-up-01h3jg28psjd', 'https://www.mentalfloss.com/article/92463/heres-why-confusing-diesel-gas-pump-problem', 'https://www.mentalfloss.com/article/558659/ways-get-rid-earworms-according-science', 'https://www.mentalfloss.com/article/64984/science-behind-why-people-hate-word-moist', 'https://www.mentalfloss.com/posts/why-do-we-tilt-our-heads-when-being-photographed', 'https://www.mentalfloss.com/posts/fear-vs-phobia-whats-the-difference', 'https://www.mentalfloss.com/posts/never-jump-into-water-to-avoid-bee-attack', 'https://www.mentalfloss.com/article/587158/how-do-fireworks-get-their-colors', 'https://www.mentalfloss.com/posts/first-crocodile-virgin-birth-documented', 'https://www.mentalfloss.com/posts/why-getting-pronouns-right-is-hard-according-to-science', 'https://www.mentalfloss.com/posts/how-to-spot-poison-oak', 'https://www.mentalfloss.com/posts/sand-facts', 'https://www.mentalfloss.com/posts/do-diy-air-purifiers-combat-wildfire-smoke-covid-pollutants', 'https://www.mentalfloss.com/article/48655/8-historical-methods-detecting-pregnancy', 'https://www.mentalfloss.com/posts/why-are-peaches-fuzzy', 'https://www.mentalfloss.com/posts/dogs-will-eat-their-owners-animal-behavior', 'https://www.mentalfloss.com/posts/wildfire-smoke-stay-safe-tips', 'https://www.mentalfloss.com/posts/books-that-changed-the-world', 'https://www.mentalfloss.com/posts/venus-strawberry-moon-skygazing', 'https://www.mentalfloss.com/posts/manhattan-project-oppenheimer-facts', 'https://www.mentalfloss.com/posts/why-dishwasher-does-not-fully-dry-plastic', 'https://www.mentalfloss.com/posts/watch-underwater-mud-volcano-eruption', 'https://www.mentalfloss.com/posts/interesting-etymologies-everyday-words', 'https://www.mentalfloss.com/article/527828/13-mnemonic-sentences-boost-your-general-knowledge', 'https://www.mentalfloss.com/posts/facts-you-dont-want-to-know', 'https://www.mentalfloss.com/posts/why-swimming-makes-you-pee', 'https://www.mentalfloss.com/article/501978/8-things-you-need-know-about-earth', 'https://www.mentalfloss.com/posts/why-is-sand-sticky', 'https://www.mentalfloss.com/posts/penumbral-lunar-eclipse', 'https://www.mentalfloss.com/article/57800/horrors-anglerfish-mating', 'https://www.mentalfloss.com/article/503962/10-stinky-facts-about-corpse-flowers', 'https://www.mentalfloss.com/article/71355/12-whirling-facts-about-tornadoes', 'https://www.mentalfloss.com/posts/barnum-brown-tyrannosaurus-rex-fossil-hunter', 'https://www.mentalfloss.com/posts/gas-vs-electric-stoves-which-is-better', 'https://www.mentalfloss.com/article/648542/inventions-changed-world', 'https://www.mentalfloss.com/posts/can-plants-die-of-old-age', 'https://www.mentalfloss.com/article/51435/what-antarctica-looks-under-all-ice', 'https://www.mentalfloss.com/posts/twisting-an-oreo-perfectly-science', 'https://www.mentalfloss.com/posts/what-is-white-stuff-on-cheese', 'https://www.mentalfloss.com/posts/milkshake-french-fries-flavor-combination-food-science', 'https://www.mentalfloss.com/posts/beethoven-hair-dna-analysis-cause-of-death', 'https://www.mentalfloss.com/posts/why-does-squinting-help-you-see-better', 'https://www.mentalfloss.com/article/89767/why-do-bubbles-guinness-sink', 'https://www.mentalfloss.com/posts/new-delhi-smog-reason', 'https://www.mentalfloss.com/article/537552/facts-about-marie-curie', 'https://www.mentalfloss.com/posts/solar-system-misconceptions', 'https://www.mentalfloss.com/article/63868/what-causes-red-tides', 'https://www.mentalfloss.com/posts/molecular-gastronomy-food-history', 'https://www.mentalfloss.com/article/573985/albert-einstein-facts', 'https://www.mentalfloss.com/article/618992/women-who-changed-world', 'https://www.mentalfloss.com/article/13067/11-things-you-probably-didnt-know-about-taxidermy', 'https://www.mentalfloss.com/posts/can-you-really-laugh-yourself-to-death', 'https://www.mentalfloss.com/article/577353/spring-equinox-facts', 'https://www.mentalfloss.com/posts/bird-migration-facts', 'https://www.mentalfloss.com/article/529854/when-you-feel-chemistry-someone-whats-actually-going', 'https://www.mentalfloss.com/article/586059/chernobyl-animal-facts', 'https://www.mentalfloss.com/article/650662/biggest-tsunamis-in-history', 'https://www.mentalfloss.com/posts/solar-system-planets-days-year-length', 'https://www.mentalfloss.com/posts/elijah-mccoy-facts', 'https://www.mentalfloss.com/posts/eastern-hellbender-salamander-conservation', 'https://www.mentalfloss.com/posts/worlds-biggest-caves', 'https://www.mentalfloss.com/posts/snow-removal-science', 'https://www.mentalfloss.com/article/508255/amazing-facts-people-who-amazing-facts', 'https://www.mentalfloss.com/article/29771/why-cant-some-people-see-magic-eye-pictures', 'https://www.mentalfloss.com/article/85984/retrobituaries-benjamin-banneker-african-american-mathematician-who-may-have-saved', 'https://www.mentalfloss.com/posts/scientific-benefits-of-love', 'https://www.mentalfloss.com/posts/cordyceps-fungus-facts', 'https://www.mentalfloss.com/posts/why-chocolate-feels-good', 'https://www.mentalfloss.com/article/58424/why-do-we-have-eyebrows', 'https://www.mentalfloss.com/article/588234/rene-favaloro-google-doodle', 'https://www.mentalfloss.com/posts/albert-einstein-ufo-letter', 'https://www.mentalfloss.com/posts/earn-extra-money-poop-donation-goodnature-program', 'https://www.mentalfloss.com/posts/germiest-place-in-kitchen', 'https://www.mentalfloss.com/article/20486/why-do-we-yawn', 'https://www.mentalfloss.com/article/32008/what-supervolcano', 'https://www.mentalfloss.com/posts/honeybee-vaccine-could-save-colonies', 'https://www.mentalfloss.com/posts/bulky-stones-best-for-skipping', 'https://www.mentalfloss.com/posts/ice-age-facts', 'https://www.mentalfloss.com/article/55573/15-scientific-reasons-spring-most-delightful-season', 'https://www.mentalfloss.com/posts/how-long-it-takes-cloth-bags-to-become-more-sustainable-than-plastic', 'https://www.mentalfloss.com/posts/bubble-curtains-protect-whales-ocean-noise', 'https://www.mentalfloss.com/posts/hard-water-vs-soft-water-whats-the-difference', 'https://www.mentalfloss.com/posts/harvard-researcher-dat-creativity-test', 'https://www.mentalfloss.com/posts/things-we-learned-2022', 'https://www.mentalfloss.com/posts/why-do-we-gasp-when-surprised', 'https://www.mentalfloss.com/posts/wasp-genital-spike-defense', 'https://www.mentalfloss.com/posts/what-is-stiff-person-syndrome', 'https://www.mentalfloss.com/posts/watching-holiday-movies-makes-us-feel-good-according-to-science', 'https://www.mentalfloss.com/posts/flush-toilet-without-lid-particle-spread', 'https://www.mentalfloss.com/article/78779/12-facts-about-chernobyls-exclusion-zone-30-years-after-disaster', 'https://www.mentalfloss.com/posts/new-drugs-treat-hot-flashes', 'https://www.mentalfloss.com/article/649985/nasa-inventions-we-use-every-day', 'https://www.mentalfloss.com/posts/why-swear-words-sound-offensive', 'https://www.mentalfloss.com/posts/shark-behavior-facts', 'https://www.mentalfloss.com/posts/scientific-advancements-inspired-by-science-fiction', 'https://www.mentalfloss.com/article/60154/what-lake-effect-snow', 'https://www.mentalfloss.com/posts/do-brussels-sprouts-taste-better-now-yes-here-s-why-01ghed9q8dr8', 'https://www.mentalfloss.com/posts/most-beautiful-baby-names-according-to-science', 'https://www.mentalfloss.com/article/554979/facts-about-wisdom-teeth', 'https://www.mentalfloss.com/posts/wasp-facts']\n",
            "240\n"
          ]
        }
      ]
    },
    {
      "cell_type": "markdown",
      "source": [
        "Шаг 3. Создание датафрейма из ссылок, текстов статей и тегов к ним."
      ],
      "metadata": {
        "id": "r1jJAREjL9Jb"
      }
    },
    {
      "cell_type": "code",
      "source": [
        "titles = []\n",
        "tags = []\n",
        "texts = []"
      ],
      "metadata": {
        "id": "2gKvfKgiM_KV"
      },
      "execution_count": null,
      "outputs": []
    },
    {
      "cell_type": "code",
      "source": [
        "def parseparse(x):\n",
        "  for i in x:\n",
        "    article_url = i\n",
        "    article_rq = rq.get(article_url)\n",
        "    article_soup = BeautifulSoup(article_rq.text, features = \"html.parser\")\n",
        "\n",
        "    for title in article_soup.find_all(\"title\"):\n",
        "      if title.parent.name == \"head\":\n",
        "        titles.append(title.text)\n",
        "\n",
        "    article_tags = article_soup.find_all(\"meta\", {\"property\" : \"article:tag\"})\n",
        "    tag_set = []\n",
        "    for tag in article_tags:\n",
        "      tag_set.append(tag.get(\"content\"))\n",
        "    tags.append(tag_set)\n",
        "\n",
        "    article_text = article_soup.find_all(\"p\")\n",
        "    paragraphs = []\n",
        "    for text in article_text:\n",
        "      paragraphs.append(text.text)\n",
        "    texts.append(paragraphs)\n",
        "\n",
        "  df0 = pd.DataFrame(titles, columns = [\"titles\"])\n",
        "  df0[\"tags\"] = tags\n",
        "  df0[\"texts\"] = texts\n",
        "\n",
        "  return df0"
      ],
      "metadata": {
        "id": "zsJZdioZLyxU"
      },
      "execution_count": null,
      "outputs": []
    },
    {
      "cell_type": "code",
      "source": [
        "df = parseparse(links)"
      ],
      "metadata": {
        "id": "JGO3cIz3QSSH"
      },
      "execution_count": null,
      "outputs": []
    },
    {
      "cell_type": "code",
      "source": [
        "df.shape"
      ],
      "metadata": {
        "colab": {
          "base_uri": "https://localhost:8080/"
        },
        "id": "aOD1NP9tXoVg",
        "outputId": "4b8f9cc7-1473-4e6b-c5cd-5c12a2b40b34"
      },
      "execution_count": null,
      "outputs": [
        {
          "output_type": "execute_result",
          "data": {
            "text/plain": [
              "(240, 3)"
            ]
          },
          "metadata": {},
          "execution_count": 11
        }
      ]
    },
    {
      "cell_type": "code",
      "source": [
        "df[\"links\"] = links"
      ],
      "metadata": {
        "id": "A_E9Mi9OQ1eN"
      },
      "execution_count": null,
      "outputs": []
    },
    {
      "cell_type": "code",
      "source": [
        "df"
      ],
      "metadata": {
        "collapsed": true,
        "colab": {
          "base_uri": "https://localhost:8080/",
          "height": 597
        },
        "id": "A4qp2KGHXstR",
        "outputId": "fdebbf69-48ed-400e-ce29-d4e81f1405f5"
      },
      "execution_count": null,
      "outputs": [
        {
          "output_type": "execute_result",
          "data": {
            "text/plain": [
              "                                                titles  \\\n",
              "0    Rock Gardens Contradict Easter Island âEcoci...   \n",
              "1                    Wild Misconceptions About Weather   \n",
              "2    The Grisly 1924 Crime That Led to the Forensic...   \n",
              "3                 12 Stunning Facts About Solar Storms   \n",
              "4    Counting Crows: These Smart Birds Can Count Ou...   \n",
              "..                                                 ...   \n",
              "235                        What is LakeâEffect Snow?   \n",
              "236  Why Brussels Sprouts Taste Better Than They Us...   \n",
              "237  The 50 Most Beautiful Baby Names, According to...   \n",
              "238                        10 Facts About Wisdom Teeth   \n",
              "239                         10 Sharp Facts About Wasps   \n",
              "\n",
              "                                                  tags  \\\n",
              "0    [science, history, archaeology, mystery, news,...   \n",
              "1                   [weather, misconceptions, YouTube]   \n",
              "2                 [history, crime, murder, 2024SEOnew]   \n",
              "3                            [space, weather, science]   \n",
              "4                        [birds, crows, science, news]   \n",
              "..                                                 ...   \n",
              "235                  [news, science, snowmen, weather]   \n",
              "236  [food, plants, recipes, pop culture, vegetable...   \n",
              "237                     [lists, babies, science, news]   \n",
              "238  [biology, evolution, health, news, science, te...   \n",
              "239                 [insects, science, animals, lists]   \n",
              "\n",
              "                                                 texts  \\\n",
              "0    [When British explorer James Cook arrived at R...   \n",
              "1    [If asked to grab a box of Crayola crayons and...   \n",
              "2    [In the United States, the term murder bag has...   \n",
              "3    [A solar storm struck Earth in May 2024, deliv...   \n",
              "4    [Calling someone a âbird brainâ isnât re...   \n",
              "..                                                 ...   \n",
              "235  [Parts of the northeastern United States are l...   \n",
              "236  [The fourth season of Leave It to Beaver opens...   \n",
              "237  [Naming a baby is one of the most fraught expe...   \n",
              "238  [Like puberty and your first heartbreak, the p...   \n",
              "239  [Is that slightly menacing, buzzing insect a w...   \n",
              "\n",
              "                                                 links  \n",
              "0    https://www.mentalfloss.com/posts/easter-islan...  \n",
              "1    https://www.mentalfloss.com/posts/misconceptio...  \n",
              "2    https://www.mentalfloss.com/posts/forensic-kit...  \n",
              "3    https://www.mentalfloss.com/posts/solar-storms...  \n",
              "4    https://www.mentalfloss.com/posts/crows-count-...  \n",
              "..                                                 ...  \n",
              "235  https://www.mentalfloss.com/article/60154/what...  \n",
              "236  https://www.mentalfloss.com/posts/do-brussels-...  \n",
              "237  https://www.mentalfloss.com/posts/most-beautif...  \n",
              "238  https://www.mentalfloss.com/article/554979/fac...  \n",
              "239       https://www.mentalfloss.com/posts/wasp-facts  \n",
              "\n",
              "[240 rows x 4 columns]"
            ],
            "text/html": [
              "\n",
              "  <div id=\"df-a639608d-01a5-4a46-bcea-c4fc4003b73c\" class=\"colab-df-container\">\n",
              "    <div>\n",
              "<style scoped>\n",
              "    .dataframe tbody tr th:only-of-type {\n",
              "        vertical-align: middle;\n",
              "    }\n",
              "\n",
              "    .dataframe tbody tr th {\n",
              "        vertical-align: top;\n",
              "    }\n",
              "\n",
              "    .dataframe thead th {\n",
              "        text-align: right;\n",
              "    }\n",
              "</style>\n",
              "<table border=\"1\" class=\"dataframe\">\n",
              "  <thead>\n",
              "    <tr style=\"text-align: right;\">\n",
              "      <th></th>\n",
              "      <th>titles</th>\n",
              "      <th>tags</th>\n",
              "      <th>texts</th>\n",
              "      <th>links</th>\n",
              "    </tr>\n",
              "  </thead>\n",
              "  <tbody>\n",
              "    <tr>\n",
              "      <th>0</th>\n",
              "      <td>Rock Gardens Contradict Easter Island âEcoci...</td>\n",
              "      <td>[science, history, archaeology, mystery, news,...</td>\n",
              "      <td>[When British explorer James Cook arrived at R...</td>\n",
              "      <td>https://www.mentalfloss.com/posts/easter-islan...</td>\n",
              "    </tr>\n",
              "    <tr>\n",
              "      <th>1</th>\n",
              "      <td>Wild Misconceptions About Weather</td>\n",
              "      <td>[weather, misconceptions, YouTube]</td>\n",
              "      <td>[If asked to grab a box of Crayola crayons and...</td>\n",
              "      <td>https://www.mentalfloss.com/posts/misconceptio...</td>\n",
              "    </tr>\n",
              "    <tr>\n",
              "      <th>2</th>\n",
              "      <td>The Grisly 1924 Crime That Led to the Forensic...</td>\n",
              "      <td>[history, crime, murder, 2024SEOnew]</td>\n",
              "      <td>[In the United States, the term murder bag has...</td>\n",
              "      <td>https://www.mentalfloss.com/posts/forensic-kit...</td>\n",
              "    </tr>\n",
              "    <tr>\n",
              "      <th>3</th>\n",
              "      <td>12 Stunning Facts About Solar Storms</td>\n",
              "      <td>[space, weather, science]</td>\n",
              "      <td>[A solar storm struck Earth in May 2024, deliv...</td>\n",
              "      <td>https://www.mentalfloss.com/posts/solar-storms...</td>\n",
              "    </tr>\n",
              "    <tr>\n",
              "      <th>4</th>\n",
              "      <td>Counting Crows: These Smart Birds Can Count Ou...</td>\n",
              "      <td>[birds, crows, science, news]</td>\n",
              "      <td>[Calling someone a âbird brainâ isnât re...</td>\n",
              "      <td>https://www.mentalfloss.com/posts/crows-count-...</td>\n",
              "    </tr>\n",
              "    <tr>\n",
              "      <th>...</th>\n",
              "      <td>...</td>\n",
              "      <td>...</td>\n",
              "      <td>...</td>\n",
              "      <td>...</td>\n",
              "    </tr>\n",
              "    <tr>\n",
              "      <th>235</th>\n",
              "      <td>What is LakeâEffect Snow?</td>\n",
              "      <td>[news, science, snowmen, weather]</td>\n",
              "      <td>[Parts of the northeastern United States are l...</td>\n",
              "      <td>https://www.mentalfloss.com/article/60154/what...</td>\n",
              "    </tr>\n",
              "    <tr>\n",
              "      <th>236</th>\n",
              "      <td>Why Brussels Sprouts Taste Better Than They Us...</td>\n",
              "      <td>[food, plants, recipes, pop culture, vegetable...</td>\n",
              "      <td>[The fourth season of Leave It to Beaver opens...</td>\n",
              "      <td>https://www.mentalfloss.com/posts/do-brussels-...</td>\n",
              "    </tr>\n",
              "    <tr>\n",
              "      <th>237</th>\n",
              "      <td>The 50 Most Beautiful Baby Names, According to...</td>\n",
              "      <td>[lists, babies, science, news]</td>\n",
              "      <td>[Naming a baby is one of the most fraught expe...</td>\n",
              "      <td>https://www.mentalfloss.com/posts/most-beautif...</td>\n",
              "    </tr>\n",
              "    <tr>\n",
              "      <th>238</th>\n",
              "      <td>10 Facts About Wisdom Teeth</td>\n",
              "      <td>[biology, evolution, health, news, science, te...</td>\n",
              "      <td>[Like puberty and your first heartbreak, the p...</td>\n",
              "      <td>https://www.mentalfloss.com/article/554979/fac...</td>\n",
              "    </tr>\n",
              "    <tr>\n",
              "      <th>239</th>\n",
              "      <td>10 Sharp Facts About Wasps</td>\n",
              "      <td>[insects, science, animals, lists]</td>\n",
              "      <td>[Is that slightly menacing, buzzing insect a w...</td>\n",
              "      <td>https://www.mentalfloss.com/posts/wasp-facts</td>\n",
              "    </tr>\n",
              "  </tbody>\n",
              "</table>\n",
              "<p>240 rows × 4 columns</p>\n",
              "</div>\n",
              "    <div class=\"colab-df-buttons\">\n",
              "\n",
              "  <div class=\"colab-df-container\">\n",
              "    <button class=\"colab-df-convert\" onclick=\"convertToInteractive('df-a639608d-01a5-4a46-bcea-c4fc4003b73c')\"\n",
              "            title=\"Convert this dataframe to an interactive table.\"\n",
              "            style=\"display:none;\">\n",
              "\n",
              "  <svg xmlns=\"http://www.w3.org/2000/svg\" height=\"24px\" viewBox=\"0 -960 960 960\">\n",
              "    <path d=\"M120-120v-720h720v720H120Zm60-500h600v-160H180v160Zm220 220h160v-160H400v160Zm0 220h160v-160H400v160ZM180-400h160v-160H180v160Zm440 0h160v-160H620v160ZM180-180h160v-160H180v160Zm440 0h160v-160H620v160Z\"/>\n",
              "  </svg>\n",
              "    </button>\n",
              "\n",
              "  <style>\n",
              "    .colab-df-container {\n",
              "      display:flex;\n",
              "      gap: 12px;\n",
              "    }\n",
              "\n",
              "    .colab-df-convert {\n",
              "      background-color: #E8F0FE;\n",
              "      border: none;\n",
              "      border-radius: 50%;\n",
              "      cursor: pointer;\n",
              "      display: none;\n",
              "      fill: #1967D2;\n",
              "      height: 32px;\n",
              "      padding: 0 0 0 0;\n",
              "      width: 32px;\n",
              "    }\n",
              "\n",
              "    .colab-df-convert:hover {\n",
              "      background-color: #E2EBFA;\n",
              "      box-shadow: 0px 1px 2px rgba(60, 64, 67, 0.3), 0px 1px 3px 1px rgba(60, 64, 67, 0.15);\n",
              "      fill: #174EA6;\n",
              "    }\n",
              "\n",
              "    .colab-df-buttons div {\n",
              "      margin-bottom: 4px;\n",
              "    }\n",
              "\n",
              "    [theme=dark] .colab-df-convert {\n",
              "      background-color: #3B4455;\n",
              "      fill: #D2E3FC;\n",
              "    }\n",
              "\n",
              "    [theme=dark] .colab-df-convert:hover {\n",
              "      background-color: #434B5C;\n",
              "      box-shadow: 0px 1px 3px 1px rgba(0, 0, 0, 0.15);\n",
              "      filter: drop-shadow(0px 1px 2px rgba(0, 0, 0, 0.3));\n",
              "      fill: #FFFFFF;\n",
              "    }\n",
              "  </style>\n",
              "\n",
              "    <script>\n",
              "      const buttonEl =\n",
              "        document.querySelector('#df-a639608d-01a5-4a46-bcea-c4fc4003b73c button.colab-df-convert');\n",
              "      buttonEl.style.display =\n",
              "        google.colab.kernel.accessAllowed ? 'block' : 'none';\n",
              "\n",
              "      async function convertToInteractive(key) {\n",
              "        const element = document.querySelector('#df-a639608d-01a5-4a46-bcea-c4fc4003b73c');\n",
              "        const dataTable =\n",
              "          await google.colab.kernel.invokeFunction('convertToInteractive',\n",
              "                                                    [key], {});\n",
              "        if (!dataTable) return;\n",
              "\n",
              "        const docLinkHtml = 'Like what you see? Visit the ' +\n",
              "          '<a target=\"_blank\" href=https://colab.research.google.com/notebooks/data_table.ipynb>data table notebook</a>'\n",
              "          + ' to learn more about interactive tables.';\n",
              "        element.innerHTML = '';\n",
              "        dataTable['output_type'] = 'display_data';\n",
              "        await google.colab.output.renderOutput(dataTable, element);\n",
              "        const docLink = document.createElement('div');\n",
              "        docLink.innerHTML = docLinkHtml;\n",
              "        element.appendChild(docLink);\n",
              "      }\n",
              "    </script>\n",
              "  </div>\n",
              "\n",
              "\n",
              "<div id=\"df-7adc2c8d-acfe-40fc-ab49-89a620dfe2db\">\n",
              "  <button class=\"colab-df-quickchart\" onclick=\"quickchart('df-7adc2c8d-acfe-40fc-ab49-89a620dfe2db')\"\n",
              "            title=\"Suggest charts\"\n",
              "            style=\"display:none;\">\n",
              "\n",
              "<svg xmlns=\"http://www.w3.org/2000/svg\" height=\"24px\"viewBox=\"0 0 24 24\"\n",
              "     width=\"24px\">\n",
              "    <g>\n",
              "        <path d=\"M19 3H5c-1.1 0-2 .9-2 2v14c0 1.1.9 2 2 2h14c1.1 0 2-.9 2-2V5c0-1.1-.9-2-2-2zM9 17H7v-7h2v7zm4 0h-2V7h2v10zm4 0h-2v-4h2v4z\"/>\n",
              "    </g>\n",
              "</svg>\n",
              "  </button>\n",
              "\n",
              "<style>\n",
              "  .colab-df-quickchart {\n",
              "      --bg-color: #E8F0FE;\n",
              "      --fill-color: #1967D2;\n",
              "      --hover-bg-color: #E2EBFA;\n",
              "      --hover-fill-color: #174EA6;\n",
              "      --disabled-fill-color: #AAA;\n",
              "      --disabled-bg-color: #DDD;\n",
              "  }\n",
              "\n",
              "  [theme=dark] .colab-df-quickchart {\n",
              "      --bg-color: #3B4455;\n",
              "      --fill-color: #D2E3FC;\n",
              "      --hover-bg-color: #434B5C;\n",
              "      --hover-fill-color: #FFFFFF;\n",
              "      --disabled-bg-color: #3B4455;\n",
              "      --disabled-fill-color: #666;\n",
              "  }\n",
              "\n",
              "  .colab-df-quickchart {\n",
              "    background-color: var(--bg-color);\n",
              "    border: none;\n",
              "    border-radius: 50%;\n",
              "    cursor: pointer;\n",
              "    display: none;\n",
              "    fill: var(--fill-color);\n",
              "    height: 32px;\n",
              "    padding: 0;\n",
              "    width: 32px;\n",
              "  }\n",
              "\n",
              "  .colab-df-quickchart:hover {\n",
              "    background-color: var(--hover-bg-color);\n",
              "    box-shadow: 0 1px 2px rgba(60, 64, 67, 0.3), 0 1px 3px 1px rgba(60, 64, 67, 0.15);\n",
              "    fill: var(--button-hover-fill-color);\n",
              "  }\n",
              "\n",
              "  .colab-df-quickchart-complete:disabled,\n",
              "  .colab-df-quickchart-complete:disabled:hover {\n",
              "    background-color: var(--disabled-bg-color);\n",
              "    fill: var(--disabled-fill-color);\n",
              "    box-shadow: none;\n",
              "  }\n",
              "\n",
              "  .colab-df-spinner {\n",
              "    border: 2px solid var(--fill-color);\n",
              "    border-color: transparent;\n",
              "    border-bottom-color: var(--fill-color);\n",
              "    animation:\n",
              "      spin 1s steps(1) infinite;\n",
              "  }\n",
              "\n",
              "  @keyframes spin {\n",
              "    0% {\n",
              "      border-color: transparent;\n",
              "      border-bottom-color: var(--fill-color);\n",
              "      border-left-color: var(--fill-color);\n",
              "    }\n",
              "    20% {\n",
              "      border-color: transparent;\n",
              "      border-left-color: var(--fill-color);\n",
              "      border-top-color: var(--fill-color);\n",
              "    }\n",
              "    30% {\n",
              "      border-color: transparent;\n",
              "      border-left-color: var(--fill-color);\n",
              "      border-top-color: var(--fill-color);\n",
              "      border-right-color: var(--fill-color);\n",
              "    }\n",
              "    40% {\n",
              "      border-color: transparent;\n",
              "      border-right-color: var(--fill-color);\n",
              "      border-top-color: var(--fill-color);\n",
              "    }\n",
              "    60% {\n",
              "      border-color: transparent;\n",
              "      border-right-color: var(--fill-color);\n",
              "    }\n",
              "    80% {\n",
              "      border-color: transparent;\n",
              "      border-right-color: var(--fill-color);\n",
              "      border-bottom-color: var(--fill-color);\n",
              "    }\n",
              "    90% {\n",
              "      border-color: transparent;\n",
              "      border-bottom-color: var(--fill-color);\n",
              "    }\n",
              "  }\n",
              "</style>\n",
              "\n",
              "  <script>\n",
              "    async function quickchart(key) {\n",
              "      const quickchartButtonEl =\n",
              "        document.querySelector('#' + key + ' button');\n",
              "      quickchartButtonEl.disabled = true;  // To prevent multiple clicks.\n",
              "      quickchartButtonEl.classList.add('colab-df-spinner');\n",
              "      try {\n",
              "        const charts = await google.colab.kernel.invokeFunction(\n",
              "            'suggestCharts', [key], {});\n",
              "      } catch (error) {\n",
              "        console.error('Error during call to suggestCharts:', error);\n",
              "      }\n",
              "      quickchartButtonEl.classList.remove('colab-df-spinner');\n",
              "      quickchartButtonEl.classList.add('colab-df-quickchart-complete');\n",
              "    }\n",
              "    (() => {\n",
              "      let quickchartButtonEl =\n",
              "        document.querySelector('#df-7adc2c8d-acfe-40fc-ab49-89a620dfe2db button');\n",
              "      quickchartButtonEl.style.display =\n",
              "        google.colab.kernel.accessAllowed ? 'block' : 'none';\n",
              "    })();\n",
              "  </script>\n",
              "</div>\n",
              "    </div>\n",
              "  </div>\n"
            ],
            "application/vnd.google.colaboratory.intrinsic+json": {
              "type": "dataframe",
              "variable_name": "df",
              "summary": "{\n  \"name\": \"df\",\n  \"rows\": 240,\n  \"fields\": [\n    {\n      \"column\": \"titles\",\n      \"properties\": {\n        \"dtype\": \"string\",\n        \"num_unique_values\": 240,\n        \"samples\": [\n          \"9 Facts About the Denisovans, Our Mysterious Human Ancestor\",\n          \"13 People Who Operated on Themselves\",\n          \"30 Astonishing Facts About Death\"\n        ],\n        \"semantic_type\": \"\",\n        \"description\": \"\"\n      }\n    },\n    {\n      \"column\": \"tags\",\n      \"properties\": {\n        \"dtype\": \"object\",\n        \"semantic_type\": \"\",\n        \"description\": \"\"\n      }\n    },\n    {\n      \"column\": \"texts\",\n      \"properties\": {\n        \"dtype\": \"object\",\n        \"semantic_type\": \"\",\n        \"description\": \"\"\n      }\n    },\n    {\n      \"column\": \"links\",\n      \"properties\": {\n        \"dtype\": \"string\",\n        \"num_unique_values\": 240,\n        \"samples\": [\n          \"https://www.mentalfloss.com/posts/denisovans-facts\",\n          \"https://www.mentalfloss.com/article/654695/people-who-operated-themselves\",\n          \"https://www.mentalfloss.com/article/581887/death-facts\"\n        ],\n        \"semantic_type\": \"\",\n        \"description\": \"\"\n      }\n    }\n  ]\n}"
            }
          },
          "metadata": {},
          "execution_count": 13
        }
      ]
    },
    {
      "cell_type": "code",
      "source": [
        "df.to_csv('sci-fi.csv', encoding = \"utf-8\")"
      ],
      "metadata": {
        "id": "XpMUsoHbXwhp"
      },
      "execution_count": null,
      "outputs": []
    }
  ]
}